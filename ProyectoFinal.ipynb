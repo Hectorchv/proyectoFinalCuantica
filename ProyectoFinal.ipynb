{
 "cells": [
  {
   "cell_type": "markdown",
   "id": "1665e630-701a-4465-a816-833921880650",
   "metadata": {},
   "source": [
    "# Proyecto Final Temas selectos de Ingeniería III (Computación Cuántica)\n",
    "\n",
    "\n",
    "<br>\n",
    "\n",
    "\n",
    "## Integrantes:\n",
    "* Acuña carranza Carlos Enrique\n",
    "* Aguilar Ramos Enrique Alejandro\n",
    "* Chávez Mejía Luis Héctor\n",
    "* García Lemus Rocío"
   ]
  },
  {
   "cell_type": "markdown",
   "id": "cc294233-dc14-4ef7-8b02-7d1987cb8ce0",
   "metadata": {
    "jp-MarkdownHeadingCollapsed": true
   },
   "source": [
    "## Algoritmo de Shor\n",
    "\n",
    "A partir de dos números primos $p$ y $q$ obtenemos $N=pq$\n",
    "\n",
    "Paso 1. Obtener un número aleatorio $m<N$ y obtener $gcd(m,N)$  \n",
    "          Si $gcd(m,N)\\neq 1$ significa que $m$ es $p$ o $q$\n",
    "\n",
    "Paso 2. Dado $f(x)=a^x mod N$, obtener $P \\in  \\mathbb{N}$ más pequeño tal  \n",
    "que $m^p \\equiv 1\\ mod \\ N$. $P$ es llamado el periodo de la función. Este  \n",
    "paso es el único que emplea una computadora cuántica para calcular $P$\n",
    "\n",
    "Paso 3. Si $P$ es impar, volver al paso 1 e intentar con otro valor de $m$  \n",
    "Si $P$ es par proceder al paso 4.\n",
    "\n",
    "Paso 4. Si $m^{P/2}+1 \\equiv 0\\ mod \\ N$, regresar al paso 1 e intertar con otro valor de $m$.  \n",
    "Si $m^{P/2}+1 \\not\\equiv 0\\ mod \\ N$ proceder al paso 5.\n",
    "\n",
    "Paso 5. Obtener $d=gcd(m^{P/2}-1,N)$, $d$ es $p$ o $q$"
   ]
  }
 ],
 "metadata": {
  "kernelspec": {
   "display_name": "Python 3 (ipykernel)",
   "language": "python",
   "name": "python3"
  },
  "language_info": {
   "codemirror_mode": {
    "name": "ipython",
    "version": 3
   },
   "file_extension": ".py",
   "mimetype": "text/x-python",
   "name": "python",
   "nbconvert_exporter": "python",
   "pygments_lexer": "ipython3",
   "version": "3.13.2"
  }
 },
 "nbformat": 4,
 "nbformat_minor": 5
}
