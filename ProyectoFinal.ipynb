{
 "cells": [
  {
   "cell_type": "markdown",
   "id": "1665e630-701a-4465-a816-833921880650",
   "metadata": {},
   "source": [
    "# Proyecto Final Temas selectos de Ingeniería III (Computación Cuántica)\n",
    "\n",
    "## Facultad de Ingeniería\n",
    "## Temas Selectos III\n",
    "\n",
    "## Integrantes:\n",
    "# Chávez Mejía Luis Héctor\n",
    "#"
   ]
  }
 ],
 "metadata": {
  "kernelspec": {
   "display_name": "Python 3 (ipykernel)",
   "language": "python",
   "name": "python3"
  },
  "language_info": {
   "codemirror_mode": {
    "name": "ipython",
    "version": 3
   },
   "file_extension": ".py",
   "mimetype": "text/x-python",
   "name": "python",
   "nbconvert_exporter": "python",
   "pygments_lexer": "ipython3",
   "version": "3.13.2"
  }
 },
 "nbformat": 4,
 "nbformat_minor": 5
}
